{
 "cells": [
  {
   "cell_type": "code",
   "execution_count": 4,
   "id": "fcc5c1d5",
   "metadata": {},
   "outputs": [],
   "source": [
    "import pandas as pd"
   ]
  },
  {
   "cell_type": "code",
   "execution_count": 26,
   "id": "e0b09db5",
   "metadata": {},
   "outputs": [],
   "source": [
    "#Read data from CSV file\n",
    "totals = pd.read_csv('Lab1/totals.csv').set_index(keys=['name'])\n",
    "counts = pd.read_csv('Lab1/counts.csv').set_index(keys=['name'])"
   ]
  },
  {
   "cell_type": "code",
   "execution_count": 7,
   "id": "47b7d1fe",
   "metadata": {},
   "outputs": [
    {
     "name": "stdout",
     "output_type": "stream",
     "text": [
      "                                2016-01  2016-02  2016-03  2016-04  2016-05   \n",
      "name                                                                          \n",
      "BURNABY SIMON FRASER U             1809     1482     2159      374      606  \\\n",
      "CALGARY INTL A                      121       22       46       40      683   \n",
      "GANDER INTL A                       896     1232      992     1106     1236   \n",
      "HALIFAX INTL A                     1491     1473     1452     1595     1001   \n",
      "REVELSTOKE                          930      561      533      204      546   \n",
      "SHERBROOKE                          183      982      621      471      667   \n",
      "TORONTO LESTER B. PEARSON INT'      363      491      729      681      346   \n",
      "VANCOUVER INTL A                   1682     1304     1616      242      516   \n",
      "YELLOWKNIFE A                       220       90       28      120       98   \n",
      "\n",
      "                                2016-06  2016-07  2016-08  2016-09  2016-10   \n",
      "name                                                                          \n",
      "BURNABY SIMON FRASER U              428      442       68      956     1429  \\\n",
      "CALGARY INTL A                      616     2061      834      253      276   \n",
      "GANDER INTL A                      1015     1264     1096     1026     2422   \n",
      "HALIFAX INTL A                      725      734      445      845     2185   \n",
      "REVELSTOKE                          748      662      274      785     1620   \n",
      "SHERBROOKE                          671      525     1599      433     1176   \n",
      "TORONTO LESTER B. PEARSON INT'      269      399      667      663      452   \n",
      "VANCOUVER INTL A                    582      328      138      784     2034   \n",
      "YELLOWKNIFE A                       306      154      280      488      158   \n",
      "\n",
      "                                2016-11  2016-12  \n",
      "name                                              \n",
      "BURNABY SIMON FRASER U             1349     1846  \n",
      "CALGARY INTL A                       27      224  \n",
      "GANDER INTL A                      1184     1099  \n",
      "HALIFAX INTL A                     1305     1835  \n",
      "REVELSTOKE                         1293      295  \n",
      "SHERBROOKE                          594      627  \n",
      "TORONTO LESTER B. PEARSON INT'      497      821  \n",
      "VANCOUVER INTL A                   2402     1520  \n",
      "YELLOWKNIFE A                       176      116  \n"
     ]
    }
   ],
   "source": [
    "print(totals)"
   ]
  },
  {
   "cell_type": "code",
   "execution_count": 22,
   "id": "02fd4f72",
   "metadata": {},
   "outputs": [
    {
     "name": "stdout",
     "output_type": "stream",
     "text": [
      "City with lowest total precipitation:\n",
      "YELLOWKNIFE A \n",
      "\n"
     ]
    }
   ],
   "source": [
    "#Find city with lowest precipitation\n",
    "lowest_precipitation_city = totals.sum(axis=1).idxmin()\n",
    "print(\"City with lowest total precipitation:\")\n",
    "print(lowest_precipitation_city, \"\\n\")"
   ]
  },
  {
   "cell_type": "code",
   "execution_count": 27,
   "id": "45a4f55f",
   "metadata": {},
   "outputs": [
    {
     "name": "stdout",
     "output_type": "stream",
     "text": [
      "Average precipitation in each month: \n",
      "2016-01    27.779783\n",
      "2016-02    30.426295\n",
      "2016-03    29.410072\n",
      "2016-04    17.966543\n",
      "2016-05    21.344569\n",
      "2016-06    20.694981\n",
      "2016-07    24.977186\n",
      "2016-08    19.856618\n",
      "2016-09    24.065637\n",
      "2016-10    44.684411\n",
      "2016-11    34.615686\n",
      "2016-12    32.366795\n",
      "dtype: float64\n"
     ]
    }
   ],
   "source": [
    "#Find avg precipitation each month\n",
    "monthly_avg_precip = totals.mean(axis=0) / counts.mean(axis=0)\n",
    "\n",
    "print(\"Average precipitation in each month: \")\n",
    "print(monthly_avg_precip)"
   ]
  },
  {
   "cell_type": "code",
   "execution_count": 28,
   "id": "7d50e59c",
   "metadata": {},
   "outputs": [
    {
     "name": "stdout",
     "output_type": "stream",
     "text": [
      "Average precipitation in each city: \n",
      "name\n",
      "BURNABY SIMON FRASER U            47.778598\n",
      "CALGARY INTL A                    14.333333\n",
      "GANDER INTL A                     39.912329\n",
      "HALIFAX INTL A                    41.445055\n",
      "REVELSTOKE                        23.409972\n",
      "SHERBROOKE                        23.681440\n",
      "TORONTO LESTER B. PEARSON INT'    17.521978\n",
      "VANCOUVER INTL A                  36.522222\n",
      "YELLOWKNIFE A                      6.154270\n",
      "dtype: float64\n"
     ]
    }
   ],
   "source": [
    "#Find avg precipitation each city across 12 months\n",
    "cities_avg_precip = totals.mean(axis=1) / counts.mean(axis=1)\n",
    "\n",
    "print(\"Average precipitation in each city: \")\n",
    "print(cities_avg_precip)"
   ]
  },
  {
   "cell_type": "code",
   "execution_count": 32,
   "id": "3b4165ab",
   "metadata": {},
   "outputs": [],
   "source": [
    "#Find total precipitation for each quarter in each city\n",
    "#city_quarter_totals=totals.resample('Q',axis=1)#resample the totals DataFrame, 'Q' stands for quarterly"
   ]
  }
 ],
 "metadata": {
  "kernelspec": {
   "display_name": "Python 3 (ipykernel)",
   "language": "python",
   "name": "python3"
  },
  "language_info": {
   "codemirror_mode": {
    "name": "ipython",
    "version": 3
   },
   "file_extension": ".py",
   "mimetype": "text/x-python",
   "name": "python",
   "nbconvert_exporter": "python",
   "pygments_lexer": "ipython3",
   "version": "3.10.9"
  }
 },
 "nbformat": 4,
 "nbformat_minor": 5
}
