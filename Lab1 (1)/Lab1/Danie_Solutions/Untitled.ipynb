{
 "cells": [
  {
   "cell_type": "code",
   "execution_count": 4,
   "id": "fcc5c1d5",
   "metadata": {},
   "outputs": [],
   "source": [
    "import pandas as pd"
   ]
  },
  {
   "cell_type": "code",
   "execution_count": 6,
   "id": "5a0c24a7",
   "metadata": {},
   "outputs": [],
   "source": [
    "#Read data frin CSV fuke\n",
    "totals = pd.read_csv('Lab1/totals.csv').set_index(keys=['name'])"
   ]
  },
  {
   "cell_type": "code",
   "execution_count": 7,
   "id": "ce4d37cf",
   "metadata": {},
   "outputs": [
    {
     "name": "stdout",
     "output_type": "stream",
     "text": [
      "                                2016-01  2016-02  2016-03  2016-04  2016-05   \n",
      "name                                                                          \n",
      "BURNABY SIMON FRASER U             1809     1482     2159      374      606  \\\n",
      "CALGARY INTL A                      121       22       46       40      683   \n",
      "GANDER INTL A                       896     1232      992     1106     1236   \n",
      "HALIFAX INTL A                     1491     1473     1452     1595     1001   \n",
      "REVELSTOKE                          930      561      533      204      546   \n",
      "SHERBROOKE                          183      982      621      471      667   \n",
      "TORONTO LESTER B. PEARSON INT'      363      491      729      681      346   \n",
      "VANCOUVER INTL A                   1682     1304     1616      242      516   \n",
      "YELLOWKNIFE A                       220       90       28      120       98   \n",
      "\n",
      "                                2016-06  2016-07  2016-08  2016-09  2016-10   \n",
      "name                                                                          \n",
      "BURNABY SIMON FRASER U              428      442       68      956     1429  \\\n",
      "CALGARY INTL A                      616     2061      834      253      276   \n",
      "GANDER INTL A                      1015     1264     1096     1026     2422   \n",
      "HALIFAX INTL A                      725      734      445      845     2185   \n",
      "REVELSTOKE                          748      662      274      785     1620   \n",
      "SHERBROOKE                          671      525     1599      433     1176   \n",
      "TORONTO LESTER B. PEARSON INT'      269      399      667      663      452   \n",
      "VANCOUVER INTL A                    582      328      138      784     2034   \n",
      "YELLOWKNIFE A                       306      154      280      488      158   \n",
      "\n",
      "                                2016-11  2016-12  \n",
      "name                                              \n",
      "BURNABY SIMON FRASER U             1349     1846  \n",
      "CALGARY INTL A                       27      224  \n",
      "GANDER INTL A                      1184     1099  \n",
      "HALIFAX INTL A                     1305     1835  \n",
      "REVELSTOKE                         1293      295  \n",
      "SHERBROOKE                          594      627  \n",
      "TORONTO LESTER B. PEARSON INT'      497      821  \n",
      "VANCOUVER INTL A                   2402     1520  \n",
      "YELLOWKNIFE A                       176      116  \n"
     ]
    }
   ],
   "source": [
    "print(totals)"
   ]
  },
  {
   "cell_type": "code",
   "execution_count": 12,
   "id": "a6a88ede",
   "metadata": {},
   "outputs": [
    {
     "name": "stdout",
     "output_type": "stream",
     "text": [
      "YELLOWKNIFE A\n"
     ]
    }
   ],
   "source": [
    "#Calculate the required values\n",
    "lowest_precipitation_city = totals.sum(axis=1).idxmin()\n",
    "print(lowest_precipitation_city)"
   ]
  }
 ],
 "metadata": {
  "kernelspec": {
   "display_name": "Python 3 (ipykernel)",
   "language": "python",
   "name": "python3"
  },
  "language_info": {
   "codemirror_mode": {
    "name": "ipython",
    "version": 3
   },
   "file_extension": ".py",
   "mimetype": "text/x-python",
   "name": "python",
   "nbconvert_exporter": "python",
   "pygments_lexer": "ipython3",
   "version": "3.10.9"
  }
 },
 "nbformat": 4,
 "nbformat_minor": 5
}
